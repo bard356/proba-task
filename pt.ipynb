{
 "cells": [
  {
   "cell_type": "markdown",
   "metadata": {},
   "source": [
    "###  Проект по решению задач по  теории вероятностей  \n",
    "\n",
    "----------------------------"
   ]
  },
  {
   "cell_type": "code",
   "execution_count": 1,
   "metadata": {},
   "outputs": [],
   "source": [
    "import pandas as pd \n",
    "import numpy as np\n",
    "import scipy.stats as stats\n",
    "import math as mth\n",
    "import matplotlib.pyplot as plt\n",
    "import seaborn as sns\n",
    "import warnings\n",
    "import stat as st\n",
    "import datetime\n",
    "import re\n",
    "import time "
   ]
  },
  {
   "cell_type": "code",
   "execution_count": 2,
   "metadata": {},
   "outputs": [],
   "source": [
    "#игнорируем ошибки \n",
    "warnings.filterwarnings(\"ignore\")\n",
    "\n",
    "#расщирение дисплея по максимальному размеру выводимых данных\n",
    "pd.set_option('display.max_colwidth', -1)"
   ]
  },
  {
   "cell_type": "markdown",
   "metadata": {},
   "source": [
    "-------------------- \n",
    "### Задача 1"
   ]
  },
  {
   "cell_type": "markdown",
   "metadata": {},
   "source": [
    "- Обратная вероятность\n",
    "\n",
    "Покупатель самого известного магазина нажимает кнопку и с равной вероятностью получает скидку от 10 до 50 процентов включительно, с шагом в 10 процентов. Два клиента нажали кнопку. Какова вероятность, что хотя бы один из них получил скидку 50%?"
   ]
  },
  {
   "cell_type": "code",
   "execution_count": 3,
   "metadata": {},
   "outputs": [
    {
     "data": {
      "text/plain": [
       "'Правильный ответ: 36.00%'"
      ]
     },
     "metadata": {},
     "output_type": "display_data"
    }
   ],
   "source": [
    "# находим пространство исходов, всего 2 клиента и 5 вариантов скидки на каждого\n",
    "n = 5**2\n",
    "\n",
    "# хотя бы 1 раз означает, что нас устраивает вероятность всех исходов, \n",
    "# входящих в обратную вероятность - оба не получили скидку 50% \n",
    "k = 4**2 # кобинации из 4-х вариантов скидок между 2 клиентами\n",
    "\n",
    "display('Правильный ответ: {:.2f}%'.format((1 - (k / n))*100))"
   ]
  },
  {
   "cell_type": "markdown",
   "metadata": {},
   "source": [
    "---------------------\n",
    "### Задача 2"
   ]
  },
  {
   "cell_type": "markdown",
   "metadata": {},
   "source": [
    "- Дерево вероятностей\n",
    "\n",
    "Если погода хорошая, то в четырех случаях из семи на праздник приезжает много людей, и прилавков с едой нужно больше. Когда погода плохая, дополнительные прилавки нужны с вероятностью 0.15. В этом году в день праздника хорошую погоду обещают с вероятностью 83%. Какова вероятность, что дополнительные прилавки понадобятся?"
   ]
  },
  {
   "cell_type": "code",
   "execution_count": 11,
   "metadata": {},
   "outputs": [
    {
     "data": {
      "text/plain": [
       "'Правильный ответ: 3.02%'"
      ]
     },
     "metadata": {},
     "output_type": "display_data"
    }
   ],
   "source": [
    "# первое разветление происходит по условию погоды\n",
    "A = 0.83 # вероятность хорошей погоды\n",
    "A_not = 1 - A # вероятность плохой погоды\n",
    "\n",
    "# каждая из веток с погодой имеет разветление по необъходимости поставить дополнительные прилавки\n",
    "B = 4/7 # приезжает много людей, если погода хорошая\n",
    "С = 0.15 # нужны дополнительные прилавки (=приезжает много людей), если погода плохая\n",
    "\n",
    "# противоположные события для B и C нас не интересуют т.к. их совершение предполагает недостаток людей\n",
    "\n",
    "# складываем вероятности, что прилавки понадобятся независимо от погоды\n",
    "display('Правильный ответ: {:.2f}%'.format((B * A) + (С * A_not)*100)) "
   ]
  },
  {
   "cell_type": "markdown",
   "metadata": {},
   "source": [
    "--------\n",
    "### Задача 3"
   ]
  },
  {
   "cell_type": "markdown",
   "metadata": {},
   "source": [
    "- Вероятность события перебором с помощью цикла\n",
    "\n",
    "В практикуме по физике содержится: две задачи первой категории сложности, четыре — второй, восемь — третьей и так далее вплоть до восьмой категории. Задачи расположены случайным образом. С какой вероятностью, открыв случайным образом учебник, первая попавшиеся задача окажется не более чем шестой категории сложности?"
   ]
  },
  {
   "cell_type": "code",
   "execution_count": 5,
   "metadata": {},
   "outputs": [
    {
     "data": {
      "text/plain": [
       "'Правильный ответ: 12.16%'"
      ]
     },
     "metadata": {},
     "output_type": "display_data"
    }
   ],
   "source": [
    "# для расчета пространства исходов и благоприятных исходов (задачи шестой категории)\n",
    "# используем цикл, где для 2^n перебереам степень n т.к. из условия, наблюдается закономерность увеличения \n",
    "# количества задач *2 при n+1, где n лежит в [1,8]\n",
    "\n",
    "total = sum([2**x for x in range(1,9)]) # берем интервал степеней от 1 до 8\n",
    "range_1_5 = sum([2**x for x in range(1,6)]) # берем интервал степеней п.у. < 6, т.е. от 1 до 5\n",
    "\n",
    "display('Правильный ответ: {:.2f}%'.format((range_1_5 / total)*100))"
   ]
  },
  {
   "cell_type": "markdown",
   "metadata": {},
   "source": [
    "--------- \n",
    "### Задача 4"
   ]
  },
  {
   "cell_type": "markdown",
   "metadata": {},
   "source": [
    "- Используем формулу условной вероятности по т.Байеса + подставляем формулу полной вероятности для знаменателя\n",
    "\n",
    "Ночью таксист совершил наезд и скрылся с места происшествия. В городе работают две компании такси, «Зеленая» и «Синяя».\n",
    "65 % городских такси – из «Зеленой» компании, а 35 % – из «Синей».\n",
    "Свидетель опознал такси как «Синее». Судебная экспертиза проверила надежность свидетеля в ночных условиях и заключила, что свидетель правильно опознает каждый из двух цветов в 87 % случаев и неправильно – в 13 % случаев.\n",
    "Какова вероятность того, что такси, совершившее наезд, было «Синим», а не «Зеленым»?"
   ]
  },
  {
   "cell_type": "markdown",
   "metadata": {},
   "source": [
    "- B - машина была синяя\n",
    "- E - свидетель правильно назвал фактический цвет\n",
    "- P(B|E) = P(B) * P(E|B) / P(E)\n",
    "- P(B) = 0,35 (априорная вероятность того, что машина синяя)\n",
    "- P(E) = (0,87 * 0,35 + 0,13 * 0,65) (вероятность того, что истинно или ложно, свидетель назвал правильно фактический цвет машины)\n",
    "- P(E|B) = 0,87 (априорная вероятность того, что свидетель сказал правду)"
   ]
  },
  {
   "cell_type": "code",
   "execution_count": 6,
   "metadata": {},
   "outputs": [],
   "source": [
    "PBE = 0.35*0.87/(0.35*0.87 + 0.13*0.65) "
   ]
  },
  {
   "cell_type": "code",
   "execution_count": 7,
   "metadata": {},
   "outputs": [
    {
     "data": {
      "text/plain": [
       "'Правильный ответ: 78.28%'"
      ]
     },
     "metadata": {},
     "output_type": "display_data"
    }
   ],
   "source": [
    "display('Правильный ответ: {:.2f}%'.format(PBE*100))"
   ]
  },
  {
   "cell_type": "markdown",
   "metadata": {},
   "source": [
    "-----------------\n",
    "### Задача 5"
   ]
  },
  {
   "cell_type": "markdown",
   "metadata": {},
   "source": [
    "- Схема Бернулли - моделируем варианты и выводим формулу\n",
    "\n",
    "Даны иррациональное число p∈(0,1) и натуральное число n. Сравнив вероятности P(Ak) при соседних k, при каком k величина P(Ak) будет наибольшей. В качестве ответа нужно привести указанный номер k. Для записи формулы пригодится функция floor(x), обозначающая целую часть числа x.\n",
    "\n",
    "Нам нужно найти номер k, при котором P(Ak) наибольшее, и дать ответ в виде формулы на все случаи"
   ]
  },
  {
   "cell_type": "code",
   "execution_count": 8,
   "metadata": {},
   "outputs": [
    {
     "data": {
      "text/plain": [
       "<matplotlib.legend.Legend at 0x22776027250>"
      ]
     },
     "execution_count": 8,
     "metadata": {},
     "output_type": "execute_result"
    },
    {
     "data": {
      "image/png": "[encoded data removed]",
      "text/plain": [
       "<Figure size 432x288 with 1 Axes>"
      ]
     },
     "metadata": {
      "needs_background": "light"
     },
     "output_type": "display_data"
    }
   ],
   "source": [
    "def Comb(n, k):\n",
    "#     формула сочетаний C(n,k) - определяем количество комбинаций, порядок не важен\n",
    "    return mth.factorial(n)/(mth.factorial(n-k)*mth.factorial(k))  \n",
    "\n",
    "N = 300 # количество испытаний\n",
    "ps = [0.1, 0.25, 0.5, 0.75, 0.9 ] # список вариантов p из [0,1], где p = 1\n",
    "ks = [i for i in range(1, N)] # список вариантов q, когда q = 1-p, где q = 0\n",
    "\n",
    "for p in ps:\n",
    "#     формула схемы Бернулли \n",
    "    P_Ak = [Comb(N, k) * p**k * (1-p)**(N-k) for k in ks]\n",
    "#     графики функции P(Ak) для всех N\n",
    "    plt.plot(ks, P_Ak)\n",
    "\n",
    "plt.title(\"P_Ak = Comb(N, k) * p**k * (1-p)**(N-k)\")\n",
    "plt.xlabel(\"n\")\n",
    "plt.ylabel(\"P_Ak\")\n",
    "plt.legend([\"p={}\".format(p) for p in ps])"
   ]
  },
  {
   "cell_type": "markdown",
   "metadata": {},
   "source": [
    "Формула решения:  abs(p*(n+1))"
   ]
  },
  {
   "cell_type": "markdown",
   "metadata": {},
   "source": [
    "---------------------- \n",
    "### Задача 6"
   ]
  },
  {
   "cell_type": "markdown",
   "metadata": {},
   "source": [
    "- Схема Бернулли и формула размещений \n",
    "\n",
    "По многолетним наблюдениям в районе обсерватории из 30 ноябрьских ночей ясных бывает в среднем 10. Группе астрономов, собирающихся сделать мировое открытие, выделено 7 ночей для наблюдений. Найдите вероятность того, что мировое открытие будет совершено, если для этого требуется по крайней мере 3 ясные ночи   "
   ]
  },
  {
   "cell_type": "code",
   "execution_count": 9,
   "metadata": {},
   "outputs": [
    {
     "data": {
      "text/plain": [
       "'Правильный ответ: 42.94%'"
      ]
     },
     "metadata": {},
     "output_type": "display_data"
    }
   ],
   "source": [
    "def Place(n, k):\n",
    "#     формула размещений C(n,k) - определяем количество комбинаций, порядок важен\n",
    "    return mth.factorial(n) / mth.factorial(n-k)  \n",
    "\n",
    "N = 7 # количество испытаний - ночи для наблюдений \n",
    "p = 1/3 # вероятность события - ясная ночь\n",
    " \n",
    "# проходимся циклом, ищем 3 вероятности для каждого k=[0,1,2], их сумма является обратной для искомой P_Ak\n",
    "P_Ak = 1 - sum([Comb(N, k) * p**k * (1-p)**(N-k) for k in range(0,3)])\n",
    "\n",
    "display('Правильный ответ: {:.2f}%'.format(P_Ak*100))"
   ]
  },
  {
   "cell_type": "markdown",
   "metadata": {},
   "source": [
    "-------------------\n",
    "### Задача 7"
   ]
  },
  {
   "cell_type": "markdown",
   "metadata": {},
   "source": [
    "- полиномиальная схема Бернулли\n",
    "\n",
    "Костя Сидоров любит ходить в тир пострелять. Его рекорд в серии из пяти выстрелов составляет 47 очков. Какова вероятность повторить рекорд, если в среднем он попадает в десятку в 30% случаев, в девятку — в 40%, в восьмерку — в 20%, в семерку — в 5%, оставшиеся 5% приходятся на диапазон 0–6?  "
   ]
  },
  {
   "attachments": {
    "%D0%B8%D0%B7%D0%BE%D0%B1%D1%80%D0%B0%D0%B6%D0%B5%D0%BD%D0%B8%D0%B5.png": {
     "image/png": "[encoded data removed]"
    }
   },
   "cell_type": "markdown",
   "metadata": {},
   "source": [
    "![%D0%B8%D0%B7%D0%BE%D0%B1%D1%80%D0%B0%D0%B6%D0%B5%D0%BD%D0%B8%D0%B5.png](attachment:%D0%B8%D0%B7%D0%BE%D0%B1%D1%80%D0%B0%D0%B6%D0%B5%D0%BD%D0%B8%D0%B5.png)"
   ]
  },
  {
   "cell_type": "code",
   "execution_count": 10,
   "metadata": {},
   "outputs": [
    {
     "data": {
      "text/plain": [
       "'Правильный ответ: 10.28%'"
      ]
     },
     "metadata": {},
     "output_type": "display_data"
    }
   ],
   "source": [
    "# важно -нам нужно повторить рекорд, но не улучшить, т.е. нас устраивает total=47\n",
    "# есть три варианта набрать 47 очков (10, 10, 10, 10, 7), (10, 10, 10, 9, 8), (10, 10, 9, 9, 9).\n",
    "# причем, нам не важна порядок, главное набрать итого 47 очков за 5 испытаний\n",
    "# вместо формулы комбинаций размещений используем полиноминальный (мультиноминальный) коэффициент \n",
    "# на который домножим вероятность событий попаданий-пересечения \n",
    "# в свою очередь, вероятность пересечения независимых событий находится как произведение вероятностей каждого испытания\n",
    "\n",
    "# вероятности из условия\n",
    "P_10 = 0.3\n",
    "P_9 = 0.4\n",
    "P_8 = 0.2\n",
    "P_7 = 0.05\n",
    "P_0_6 = 0.05\n",
    "\n",
    "# (10, 10, 10, 10, 7)\n",
    "P_A_1 =  (mth.factorial(5) / (mth.factorial(4) * mth.factorial(1))) * (P_10**4 *  P_7)  \n",
    "\n",
    "# (10, 10, 10, 9, 8)\n",
    "P_A_2 =  (mth.factorial(5) / (mth.factorial(3) * mth.factorial(1) * mth.factorial(1))) * (P_10**3 *  P_9 * P_8)\n",
    "    \n",
    "# (10, 10, 9, 9, 9)\n",
    "P_A_3 =  (mth.factorial(5) / (mth.factorial(2) * mth.factorial(3))) * (P_10**2 *  P_9**3 ) \n",
    "\n",
    "# складываем вероятности т.к. они не совместные события, и вместе образуют искомую группу вероятности    \n",
    "display('Правильный ответ: {:.2f}%'.format(sum([P_A_1, P_A_2, P_A_3])*100))"
   ]
  },
  {
   "cell_type": "markdown",
   "metadata": {},
   "source": [
    "#### Источники: \n",
    "- [120 вопросов на собеседовании по науке о данных](https://github.com/kojino/120-Data-Science-Interview-Questions/blob/master/probability.md)\n",
    "- [Теория вероятностей. Курс на stepik.org](https://stepik.org/course/3089/syllabus)\n",
    "- [Библиотека аналитиков от выпускников Практикума](https://www.analysts-library.ru/main)\n",
    "- [Журнал Код](https://thecode.media/live-view/)\n",
    "- [Электронный учебник по статистике](http://statsoft.ru/home/textbook/default.htm)\n",
    "- [Stackoverflow](https://stackoverflow.com/questions)\n",
    "- [Галерия нотбуков](https://github.com/jupyter/jupyter/wiki/A-gallery-of-interesting-Jupyter-Notebooks)\n",
    "- [Конспекты по аналитике](https://www.notion.so/product)\n",
    "- [Когортный анализ](https://vc.ru/growth/4242-cohort-analysis)\n",
    "- [Шпоргалка по Pandas](https://smysl.io/blog/pandas/)\n",
    "- [Построение графиков](https://python-scripts.com/matplotlib)\n",
    "- [Визуализация данных](http://pythontutor.com/visualize.html#mode=edit)"
   ]
  }
 ],
 "metadata": {
  "kernelspec": {
   "display_name": "Python 3",
   "language": "python",
   "name": "python3"
  },
  "language_info": {
   "codemirror_mode": {
    "name": "ipython",
    "version": 3
   },
   "file_extension": ".py",
   "mimetype": "text/x-python",
   "name": "python",
   "nbconvert_exporter": "python",
   "pygments_lexer": "ipython3",
   "version": "3.8.8"
  }
 },
 "nbformat": 4,
 "nbformat_minor": 2
}
